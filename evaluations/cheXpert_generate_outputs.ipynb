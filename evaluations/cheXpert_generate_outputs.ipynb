{
 "cells": [
  {
   "cell_type": "code",
   "execution_count": 2,
   "metadata": {},
   "outputs": [],
   "source": [
    "import torchxrayvision as xrv\n",
    "import skimage, torch, torchvision\n",
    "from pathlib import Path"
   ]
  },
  {
   "cell_type": "code",
   "execution_count": 3,
   "metadata": {},
   "outputs": [],
   "source": [
    "xrv_224 = \"densenet121-res224-all\"\n",
    "xrv_512 = \"resnet50-res512-all\"\n",
    "xrv_224_chex =\"densenet121-res224-chex\"\n",
    "model_xrv_224 = xrv.models.DenseNet(weights=xrv_224)\n",
    "model_xrv_512 = xrv.models.ResNet(weights=xrv_512)\n",
    "model_xrv_224_chex = xrv.models.DenseNet(weights=xrv_224_chex)"
   ]
  },
  {
   "cell_type": "code",
   "execution_count": 6,
   "metadata": {},
   "outputs": [],
   "source": [
    "def process_image(model,image_path):\n",
    "    # NOTE: this is the example processing code from the xrv readme\n",
    "    img = skimage.io.imread(image_path)\n",
    "    img = xrv.datasets.normalize(img, 255) # convert 8-bit image to [-1024, 1024] range\n",
    "    img = img[None,...] \n",
    "\n",
    "\n",
    "    if \"224\" in model:\n",
    "        transform = torchvision.transforms.Compose([xrv.datasets.XRayCenterCrop(),xrv.datasets.XRayResizer(224)])\n",
    "    else:\n",
    "        transform = torchvision.transforms.Compose([xrv.datasets.XRayCenterCrop(),xrv.datasets.XRayResizer(512)])\n",
    "    img = transform(img)\n",
    "    img = torch.from_numpy(img).unsqueeze(0)\n",
    "\n",
    "    return img"
   ]
  },
  {
   "cell_type": "code",
   "execution_count": 21,
   "metadata": {},
   "outputs": [],
   "source": [
    "cheXpert_small_val_split = Path(\"/vol/biomedic3/bglocker/ugproj2324/nns20/datasets/CheXpert/small/valid.csv\")\n",
    "cheXpert_small_test_split = Path(\"/vol/biomedic3/bglocker/ugproj2324/nns20/datasets/CheXpert/small/test.csv\")\n",
    "\n",
    "cheXpert_small_validation_path = Path(\"/vol/biodata/data/chest_xray/CheXpert-v1.0-small\")\n",
    "cheXpert_small_test_path = Path(\"/vol/biomedic3/bglocker/ugproj2324/nns20/datasets/CheXpert/small/\")\n",
    "\n",
    "def generate_outputs(model_name, model, image_paths, test = False):\n",
    "\n",
    "    output_dict = {}\n",
    "\n",
    "    with open(image_paths) as f:\n",
    "        f.readline() # skip header\n",
    "        for i, line in enumerate(f):\n",
    "            if i % 100 == 0:\n",
    "                print(f\"Processing image {i} of {image_paths}\")\n",
    "            img_path = line.split(\",\")[0]\n",
    "\n",
    "            if test:\n",
    "                img_path = cheXpert_small_test_path / img_path\n",
    "            else:\n",
    "                img_path = cheXpert_small_validation_path / img_path\n",
    "\n",
    "            processed_image = process_image(model_name, img_path)\n",
    "            model_output = model(processed_image)\n",
    "            processed_outputs = [k for k,v in dict(zip(model_xrv_224_chex.pathologies,model_output[0].detach().numpy())).items() if v > 0.5]\n",
    "            if len(processed_outputs) == 0:\n",
    "                processed_outputs = [\"No findings\"]\n",
    "            key = (\"/\").join(str(img_path).split(\"/\")[-3:])\n",
    "            output_dict[key] = processed_outputs\n",
    "\n",
    "    return output_dict\n"
   ]
  },
  {
   "cell_type": "code",
   "execution_count": 22,
   "metadata": {},
   "outputs": [
    {
     "name": "stdout",
     "output_type": "stream",
     "text": [
      "Processing image 0 of /vol/biomedic3/bglocker/ugproj2324/nns20/datasets/CheXpert/small/test.csv\n",
      "Processing image 100 of /vol/biomedic3/bglocker/ugproj2324/nns20/datasets/CheXpert/small/test.csv\n",
      "Processing image 200 of /vol/biomedic3/bglocker/ugproj2324/nns20/datasets/CheXpert/small/test.csv\n",
      "Processing image 300 of /vol/biomedic3/bglocker/ugproj2324/nns20/datasets/CheXpert/small/test.csv\n",
      "Processing image 400 of /vol/biomedic3/bglocker/ugproj2324/nns20/datasets/CheXpert/small/test.csv\n",
      "Processing image 500 of /vol/biomedic3/bglocker/ugproj2324/nns20/datasets/CheXpert/small/test.csv\n",
      "Processing image 600 of /vol/biomedic3/bglocker/ugproj2324/nns20/datasets/CheXpert/small/test.csv\n",
      "Processing image 0 of /vol/biomedic3/bglocker/ugproj2324/nns20/datasets/CheXpert/small/test.csv\n",
      "Processing image 100 of /vol/biomedic3/bglocker/ugproj2324/nns20/datasets/CheXpert/small/test.csv\n",
      "Processing image 200 of /vol/biomedic3/bglocker/ugproj2324/nns20/datasets/CheXpert/small/test.csv\n",
      "Processing image 300 of /vol/biomedic3/bglocker/ugproj2324/nns20/datasets/CheXpert/small/test.csv\n",
      "Processing image 400 of /vol/biomedic3/bglocker/ugproj2324/nns20/datasets/CheXpert/small/test.csv\n",
      "Processing image 500 of /vol/biomedic3/bglocker/ugproj2324/nns20/datasets/CheXpert/small/test.csv\n",
      "Processing image 600 of /vol/biomedic3/bglocker/ugproj2324/nns20/datasets/CheXpert/small/test.csv\n",
      "Processing image 0 of /vol/biomedic3/bglocker/ugproj2324/nns20/datasets/CheXpert/small/test.csv\n",
      "Processing image 100 of /vol/biomedic3/bglocker/ugproj2324/nns20/datasets/CheXpert/small/test.csv\n",
      "Processing image 200 of /vol/biomedic3/bglocker/ugproj2324/nns20/datasets/CheXpert/small/test.csv\n",
      "Processing image 300 of /vol/biomedic3/bglocker/ugproj2324/nns20/datasets/CheXpert/small/test.csv\n",
      "Processing image 400 of /vol/biomedic3/bglocker/ugproj2324/nns20/datasets/CheXpert/small/test.csv\n",
      "Processing image 500 of /vol/biomedic3/bglocker/ugproj2324/nns20/datasets/CheXpert/small/test.csv\n",
      "Processing image 600 of /vol/biomedic3/bglocker/ugproj2324/nns20/datasets/CheXpert/small/test.csv\n"
     ]
    }
   ],
   "source": [
    "out_dir = Path(\"/vol/biomedic3/bglocker/ugproj2324/nns20/torchxrayvision/evaluations/CheXpert_evaluation_results/test_set\")\n",
    "out_dir.mkdir(exist_ok=True,parents=True)\n",
    "out_224_path = out_dir / 'xrv_224.txt'\n",
    "out_224_chex_path = out_dir / 'xrv_224_chex.txt'\n",
    "out_512_path = out_dir / 'xrv_512.txt'\n",
    "\n",
    "out_224 = generate_outputs(xrv_224, model_xrv_224, cheXpert_small_test_split,test=True)\n",
    "out_224_chex = generate_outputs(xrv_224_chex, model_xrv_224_chex, cheXpert_small_test_split,test=True)\n",
    "out_512 = generate_outputs(xrv_512, model_xrv_512, cheXpert_small_test_split,test=True)\n",
    "\n",
    "with open(out_224_path, 'w') as f:\n",
    "    for img_id,outputs in out_224.items():\n",
    "        f.write(f'{img_id},{\",\".join(outputs)}\\n')\n",
    "\n",
    "with open(out_224_chex_path, 'w') as f:\n",
    "    for img_id,outputs in out_224_chex.items():\n",
    "        f.write(f'{img_id},{\",\".join(outputs)}\\n')\n",
    "\n",
    "with open(out_512_path, 'w') as f:\n",
    "    for img_id,outputs in out_512.items():\n",
    "        f.write(f'{img_id},{\",\".join(outputs)}\\n')\n"
   ]
  }
 ],
 "metadata": {
  "kernelspec": {
   "display_name": ".venv",
   "language": "python",
   "name": "python3"
  },
  "language_info": {
   "codemirror_mode": {
    "name": "ipython",
    "version": 3
   },
   "file_extension": ".py",
   "mimetype": "text/x-python",
   "name": "python",
   "nbconvert_exporter": "python",
   "pygments_lexer": "ipython3",
   "version": "3.10.12"
  }
 },
 "nbformat": 4,
 "nbformat_minor": 2
}
