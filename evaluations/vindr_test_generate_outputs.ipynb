{
 "cells": [
  {
   "cell_type": "code",
   "execution_count": 1,
   "metadata": {},
   "outputs": [],
   "source": [
    "import torchxrayvision as xrv\n",
    "import skimage, torch, torchvision\n",
    "from pathlib import Path"
   ]
  },
  {
   "cell_type": "code",
   "execution_count": 2,
   "metadata": {},
   "outputs": [],
   "source": [
    "xrv_224 = \"densenet121-res224-all\"\n",
    "xrv_512 = \"resnet50-res512-all\"\n",
    "xrv_224_chex =\"densenet121-res224-chex\"\n",
    "model_xrv_224 = xrv.models.DenseNet(weights=xrv_224)\n",
    "model_xrv_512 = xrv.models.ResNet(weights=xrv_512)\n",
    "model_xrv_224_chex = xrv.models.DenseNet(weights=xrv_224_chex)"
   ]
  },
  {
   "cell_type": "code",
   "execution_count": 16,
   "metadata": {},
   "outputs": [],
   "source": [
    "def process_image(model,image_path):\n",
    "    img = skimage.io.imread(image_path)\n",
    "    img = xrv.datasets.normalize(img, 255) # convert 8-bit image to [-1024, 1024] range\n",
    "    img = img[None,...] \n",
    "\n",
    "\n",
    "    if \"224\" in model:\n",
    "        transform = torchvision.transforms.Compose([xrv.datasets.XRayCenterCrop(),xrv.datasets.XRayResizer(224)])\n",
    "    else:\n",
    "        transform = torchvision.transforms.Compose([xrv.datasets.XRayCenterCrop(),xrv.datasets.XRayResizer(512)])\n",
    "    img = transform(img)\n",
    "    img = torch.from_numpy(img).unsqueeze(0)\n",
    "\n",
    "    return img"
   ]
  },
  {
   "cell_type": "code",
   "execution_count": 20,
   "metadata": {},
   "outputs": [
    {
     "name": "stdout",
     "output_type": "stream",
     "text": [
      "['Infiltration', 'Cardiomegaly']\n",
      "['Cardiomegaly', 'Enlarged Cardiomediastinum']\n",
      "['Lung Opacity']\n"
     ]
    }
   ],
   "source": [
    "test_png_dset_path = '/vol/biodata/data/chest_xray/VinDr-CXR/1.0.0_png_512/raw/test/688ecdb1a4e994d42b5a50a8c4a9736f.png'\n",
    "img = process_image(xrv_224,test_png_dset_path)\n",
    "\n",
    "outputs_224 = model_xrv_224(img)\n",
    "# print keys where value is greater than 0.5\n",
    "print([k for k,v in dict(zip(model_xrv_224.pathologies,outputs_224[0].detach().numpy())).items() if v > 0.5])\n",
    "\n",
    "outputs_224_chex = model_xrv_224_chex(img)\n",
    "print([k for k,v in dict(zip(model_xrv_224_chex.pathologies,outputs_224_chex[0].detach().numpy())).items() if v > 0.5])\n",
    "\n",
    "img = process_image(xrv_512,test_png_dset_path)\n",
    "outputs_512 = model_xrv_512(img)\n",
    "print([k for k,v in dict(zip(model_xrv_512.pathologies,outputs_512[0].detach().numpy())).items() if v > 0.5])\n"
   ]
  },
  {
   "cell_type": "code",
   "execution_count": 28,
   "metadata": {},
   "outputs": [],
   "source": [
    "vindr_test_test_split_path = '/vol/biomedic3/bglocker/ugproj2324/nns20/datasets/VinDr-CXR/test_set_three_splits/VinDr_test_test_split.txt'\n",
    "vindr_dir_test_path = Path('/vol/biodata/data/chest_xray/VinDr-CXR/1.0.0_png_512/raw/test/')"
   ]
  },
  {
   "cell_type": "code",
   "execution_count": 40,
   "metadata": {},
   "outputs": [],
   "source": [
    "img_outputs_224 = {}\n",
    "img_outputs_224_chex = {}\n",
    "img_outputs_512 = {}\n",
    "\n",
    "for line in open(vindr_test_test_split_path):\n",
    "\n",
    "    img_id = line.strip()\n",
    "    img_path = vindr_dir_test_path /f'{img_id}.png'\n",
    "    img = process_image(xrv_224,img_path)\n",
    "    outputs_224 = model_xrv_224(img)\n",
    "    outputs_224 = [k for k,v in dict(zip(model_xrv_224.pathologies,outputs_224[0].detach().numpy())).items() if v > 0.5]\n",
    "    img_outputs_224[img_id] = outputs_224\n",
    "    \n",
    "    outputs_224_chex = model_xrv_224_chex(img)\n",
    "    outputs_224_chex = [k for k,v in dict(zip(model_xrv_224_chex.pathologies,outputs_224_chex[0].detach().numpy())).items() if v > 0.5]\n",
    "    img_outputs_224_chex[img_id] = outputs_224_chex\n",
    "\n",
    "    img = process_image(xrv_512,img_path)\n",
    "    outputs_512 = model_xrv_512(img)\n",
    "    outputs_512 = [k for k,v in dict(zip(model_xrv_512.pathologies,outputs_512[0].detach().numpy())).items() if v > 0.5]\n",
    "    img_outputs_512[img_id] = outputs_512\n",
    "\n",
    " \n",
    "    "
   ]
  },
  {
   "cell_type": "code",
   "execution_count": 41,
   "metadata": {},
   "outputs": [],
   "source": [
    "# write to three files\n",
    "out_dir = Path('/vol/biomedic3/bglocker/ugproj2324/nns20/torchxrayvision/evaluations/VinDr_evaluation_results')\n",
    "out_dir.mkdir(exist_ok=True,parents=True)\n",
    "out_224_path = out_dir / 'xrv_224.txt'\n",
    "out_224_chex_path = out_dir / 'xrv_224_chex.txt'\n",
    "out_512_path = out_dir / 'xrv_512.txt'\n",
    "\n",
    "with open(out_224_path,'w') as f:\n",
    "    for img_id,outputs in img_outputs_224.items():\n",
    "        f.write(f'{img_id},{\",\".join(outputs)}\\n')\n",
    "\n",
    "with open(out_224_chex_path,'w') as f:\n",
    "    for img_id,outputs in img_outputs_224_chex.items():\n",
    "        f.write(f'{img_id},{\",\".join(outputs)}\\n')\n",
    "\n",
    "with open(out_512_path,'w') as f:\n",
    "    for img_id,outputs in img_outputs_512.items():\n",
    "        f.write(f'{img_id},{\",\".join(outputs)}\\n')"
   ]
  },
  {
   "cell_type": "code",
   "execution_count": 24,
   "metadata": {},
   "outputs": [],
   "source": [
    "out_dir = Path('/vol/biomedic3/bglocker/ugproj2324/nns20/torchxrayvision/evaluations/VinDr_evaluation_results')\n",
    "out_dir.mkdir(exist_ok=True,parents=True)\n",
    "out_224_path = out_dir / 'xrv_224.txt'\n",
    "out_224_chex_path = out_dir / 'xrv_224_chex.txt'\n",
    "out_512_path = out_dir / 'xrv_512.txt'\n",
    "output_files = [out_224_path,out_224_chex_path,out_512_path]\n",
    "# for all files if they have length 1 when splitting by \",\" add a \"No finding\" to the line\n",
    "for out_path in output_files:\n",
    "    lines_to_write = []\n",
    "    with open(out_path,'r') as f:\n",
    "        # lines = f.readlines()\n",
    "        for i, line in enumerate(f):\n",
    "            if len(line.strip().split(\",\")) == 2 and len(line.strip().split(\",\")[1]) == 0:\n",
    "                lines_to_write.append(i)\n",
    "\n",
    "    # for all lines that need to be written to, write \"No finding\" to the line\n",
    "    with open(out_path,'r') as f:\n",
    "        lines = f.readlines()\n",
    "        with open(out_path,'w') as f:\n",
    "            for i, line in enumerate(lines):\n",
    "                if i in lines_to_write:\n",
    "                    f.write(f'{line.strip()}No finding\\n')\n",
    "                else:\n",
    "                    f.write(line)\n"
   ]
  }
 ],
 "metadata": {
  "kernelspec": {
   "display_name": ".venv",
   "language": "python",
   "name": "python3"
  },
  "language_info": {
   "codemirror_mode": {
    "name": "ipython",
    "version": 3
   },
   "file_extension": ".py",
   "mimetype": "text/x-python",
   "name": "python",
   "nbconvert_exporter": "python",
   "pygments_lexer": "ipython3",
   "version": "3.10.12"
  }
 },
 "nbformat": 4,
 "nbformat_minor": 2
}
