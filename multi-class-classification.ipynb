{
 "cells": [
  {
   "cell_type": "code",
   "execution_count": 1,
   "metadata": {},
   "outputs": [],
   "source": [
    "import torchxrayvision as xrv\n",
    "import skimage, torch, torchvision\n"
   ]
  },
  {
   "cell_type": "code",
   "execution_count": 3,
   "metadata": {},
   "outputs": [
    {
     "name": "stdout",
     "output_type": "stream",
     "text": [
      "Downloading weights...\n",
      "If this fails you can run `wget https://github.com/mlmed/torchxrayvision/releases/download/v1/nih-pc-chex-mimic_ch-google-openi-kaggle-densenet121-d121-tw-lr001-rot45-tr15-sc15-seed0-best.pt -O /homes/nns20/.torchxrayvision/models_data/nih-pc-chex-mimic_ch-google-openi-kaggle-densenet121-d121-tw-lr001-rot45-tr15-sc15-seed0-best.pt`\n",
      "[██████████████████████████████████████████████████]\n",
      "Downloading weights...\n",
      "If this fails you can run `wget https://github.com/mlmed/torchxrayvision/releases/download/v1/pc-nih-rsna-siim-vin-resnet50-test512-e400-state.pt -O /homes/nns20/.torchxrayvision/models_data/pc-nih-rsna-siim-vin-resnet50-test512-e400-state.pt`\n",
      "[██████████████████████████████████████████████████]\n",
      "Downloading weights...\n",
      "If this fails you can run `wget https://github.com/mlmed/torchxrayvision/releases/download/v1/chex-densenet121-d121-tw-lr001-rot45-tr15-sc15-seed0-best.pt -O /homes/nns20/.torchxrayvision/models_data/chex-densenet121-d121-tw-lr001-rot45-tr15-sc15-seed0-best.pt`\n",
      "[██████████████████████████████████████████████████]\n"
     ]
    }
   ],
   "source": [
    "xrv_224 = \"densenet121-res224-all\"\n",
    "xrv_512 = \"resnet50-res512-all\"\n",
    "xrv_224_chex =\"densenet121-res224-chex\"\n",
    "model_xrv_224 = xrv.models.DenseNet(weights=xrv_224)\n",
    "model_xrv_512 = xrv.models.ResNet(weights=xrv_512)\n",
    "model_xrv_224_chex = xrv.models.DenseNet(weights=xrv_224_chex)"
   ]
  },
  {
   "cell_type": "code",
   "execution_count": 36,
   "metadata": {},
   "outputs": [
    {
     "name": "stdout",
     "output_type": "stream",
     "text": [
      "{'Atelectasis': 0.8991685, 'Consolidation': 0.736043, 'Infiltration': 0.530275, 'Pneumothorax': 0.5510979, 'Edema': 0.70763063, 'Emphysema': 0.5024193, 'Fibrosis': 0.5392559, 'Effusion': 0.8780435, 'Pneumonia': 0.6230825, 'Pleural_Thickening': 0.5054679, 'Cardiomegaly': 0.6129729, 'Nodule': 0.5123811, 'Mass': 0.50854933, 'Hernia': 0.30990773, 'Lung Lesion': 0.650471, 'Fracture': 0.71907544, 'Lung Opacity': 0.9088307, 'Enlarged Cardiomediastinum': 0.6087773}\n",
      "['Atelectasis', 'Consolidation', 'Infiltration', 'Pneumothorax', 'Edema', 'Emphysema', 'Fibrosis', 'Effusion', 'Pneumonia', 'Pleural_Thickening', 'Cardiomegaly', 'Nodule', 'Mass', 'Lung Lesion', 'Fracture', 'Lung Opacity', 'Enlarged Cardiomediastinum']\n",
      "{'Atelectasis': 0.7778847, 'Consolidation': 0.5369316, '': 0.5, 'Pneumothorax': 0.4584497, 'Edema': 0.6552038, 'Effusion': 0.6616416, 'Pneumonia': 0.3238542, 'Cardiomegaly': 0.25520623, 'Lung Lesion': 0.288225, 'Fracture': 0.52967656, 'Lung Opacity': 0.7718331, 'Enlarged Cardiomediastinum': 0.5102315}\n",
      "['Atelectasis', 'Consolidation', 'Edema', 'Effusion', 'Fracture', 'Lung Opacity', 'Enlarged Cardiomediastinum']\n"
     ]
    }
   ],
   "source": [
    "path = \"/vol/biodata/data/chest_xray/CheXpert-v1.0-small/CheXpert-v1.0-small/valid/patient64654/study1/view1_frontal.jpg\" # Greyscale 390 * 320 \n",
    "img = skimage.io.imread(path)\n",
    "img = xrv.datasets.normalize(img, 255) # convert 8-bit image to [-1024, 1024] range\n",
    "img = img[None,...]  # add channel dimension if greyscale (as is the case for CheXpert images)\n",
    "\n",
    "transform = torchvision.transforms.Compose([xrv.datasets.XRayCenterCrop(),xrv.datasets.XRayResizer(224)])\n",
    "img = transform(img)\n",
    "img = torch.from_numpy(img).unsqueeze(0) # add batch dimension\n",
    "# print(img.shape)\n",
    "\n",
    "outputs_224 = model_xrv_224(img)\n",
    "print(dict(zip(model_xrv_224.pathologies,outputs_224[0].detach().numpy())))\n",
    "# print keys where value is greater than 0.5\n",
    "print([k for k,v in dict(zip(model_xrv_224.pathologies,outputs_224[0].detach().numpy())).items() if v > 0.5])\n",
    "\n",
    "outputs_224_chex = model_xrv_224_chex(img)\n",
    "print(dict(zip(model_xrv_224_chex.pathologies,outputs_224_chex[0].detach().numpy())))\n",
    "print([k for k,v in dict(zip(model_xrv_224_chex.pathologies,outputs_224_chex[0].detach().numpy())).items() if v > 0.5])\n",
    "\n"
   ]
  }
 ],
 "metadata": {
  "kernelspec": {
   "display_name": ".venv",
   "language": "python",
   "name": "python3"
  },
  "language_info": {
   "codemirror_mode": {
    "name": "ipython",
    "version": 3
   },
   "file_extension": ".py",
   "mimetype": "text/x-python",
   "name": "python",
   "nbconvert_exporter": "python",
   "pygments_lexer": "ipython3",
   "version": "3.10.12"
  }
 },
 "nbformat": 4,
 "nbformat_minor": 2
}
